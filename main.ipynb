{
 "cells": [
  {
   "cell_type": "code",
   "execution_count": 1,
   "metadata": {},
   "outputs": [],
   "source": [
    "# from CONSTS import * #for importing Roll no & password. \n",
    "import time\n",
    "import pyautogui as pag\n",
    "from selenium import webdriver\n",
    "from selenium.webdriver.chrome.service import Service\n",
    "from selenium.webdriver.chrome.options import Options\n",
    "from webdriver_manager.chrome import ChromeDriverManager\n",
    "from selenium.webdriver.chrome.options import Options\n",
    "from selenium.webdriver.common.keys import Keys"
   ]
  },
  {
   "cell_type": "code",
   "execution_count": 4,
   "metadata": {},
   "outputs": [
    {
     "ename": "ElementNotInteractableException",
     "evalue": "Message: element not interactable\n  (Session info: chrome=126.0.6478.185)\nStacktrace:\n\tGetHandleVerifier [0x00007FF62D7FEEB2+31554]\n\t(No symbol) [0x00007FF62D777EE9]\n\t(No symbol) [0x00007FF62D638559]\n\t(No symbol) [0x00007FF62D6897C2]\n\t(No symbol) [0x00007FF62D67C151]\n\t(No symbol) [0x00007FF62D6AD02A]\n\t(No symbol) [0x00007FF62D67BA76]\n\t(No symbol) [0x00007FF62D6AD240]\n\t(No symbol) [0x00007FF62D6CC977]\n\t(No symbol) [0x00007FF62D6ACDD3]\n\t(No symbol) [0x00007FF62D67A33B]\n\t(No symbol) [0x00007FF62D67AED1]\n\tGetHandleVerifier [0x00007FF62DB08B2D+3217341]\n\tGetHandleVerifier [0x00007FF62DB55AF3+3532675]\n\tGetHandleVerifier [0x00007FF62DB4B0F0+3489152]\n\tGetHandleVerifier [0x00007FF62D8AE786+750614]\n\t(No symbol) [0x00007FF62D78376F]\n\t(No symbol) [0x00007FF62D77EB24]\n\t(No symbol) [0x00007FF62D77ECB2]\n\t(No symbol) [0x00007FF62D76E17F]\n\tBaseThreadInitThunk [0x00007FFE2D537374+20]\n\tRtlUserThreadStart [0x00007FFE2DFDCC91+33]\n",
     "output_type": "error",
     "traceback": [
      "\u001b[1;31m---------------------------------------------------------------------------\u001b[0m",
      "\u001b[1;31mElementNotInteractableException\u001b[0m           Traceback (most recent call last)",
      "Cell \u001b[1;32mIn[4], line 65\u001b[0m\n\u001b[0;32m     63\u001b[0m next_element \u001b[38;5;241m=\u001b[39m driver\u001b[38;5;241m.\u001b[39mfind_element(\u001b[38;5;124m\"\u001b[39m\u001b[38;5;124mcss selector\u001b[39m\u001b[38;5;124m\"\u001b[39m, \u001b[38;5;124m'\u001b[39m\u001b[38;5;124mbutton[class=\u001b[39m\u001b[38;5;124m\"\u001b[39m\u001b[38;5;124mclose btn btn-lg btn-danger\u001b[39m\u001b[38;5;124m\"\u001b[39m\u001b[38;5;124m]\u001b[39m\u001b[38;5;124m'\u001b[39m)\n\u001b[0;32m     64\u001b[0m driver\u001b[38;5;241m.\u001b[39mexecute_script(\u001b[38;5;124m\"\u001b[39m\u001b[38;5;124marguments[0].scrollIntoView();\u001b[39m\u001b[38;5;124m\"\u001b[39m, next_element)\n\u001b[1;32m---> 65\u001b[0m \u001b[43mnext_element\u001b[49m\u001b[38;5;241;43m.\u001b[39;49m\u001b[43mclick\u001b[49m\u001b[43m(\u001b[49m\u001b[43m)\u001b[49m\n",
      "File \u001b[1;32mc:\\Users\\kvujw\\AppData\\Local\\Programs\\Python\\Python310\\lib\\site-packages\\selenium\\webdriver\\remote\\webelement.py:94\u001b[0m, in \u001b[0;36mWebElement.click\u001b[1;34m(self)\u001b[0m\n\u001b[0;32m     92\u001b[0m \u001b[38;5;28;01mdef\u001b[39;00m \u001b[38;5;21mclick\u001b[39m(\u001b[38;5;28mself\u001b[39m) \u001b[38;5;241m-\u001b[39m\u001b[38;5;241m>\u001b[39m \u001b[38;5;28;01mNone\u001b[39;00m:\n\u001b[0;32m     93\u001b[0m \u001b[38;5;250m    \u001b[39m\u001b[38;5;124;03m\"\"\"Clicks the element.\"\"\"\u001b[39;00m\n\u001b[1;32m---> 94\u001b[0m     \u001b[38;5;28;43mself\u001b[39;49m\u001b[38;5;241;43m.\u001b[39;49m\u001b[43m_execute\u001b[49m\u001b[43m(\u001b[49m\u001b[43mCommand\u001b[49m\u001b[38;5;241;43m.\u001b[39;49m\u001b[43mCLICK_ELEMENT\u001b[49m\u001b[43m)\u001b[49m\n",
      "File \u001b[1;32mc:\\Users\\kvujw\\AppData\\Local\\Programs\\Python\\Python310\\lib\\site-packages\\selenium\\webdriver\\remote\\webelement.py:395\u001b[0m, in \u001b[0;36mWebElement._execute\u001b[1;34m(self, command, params)\u001b[0m\n\u001b[0;32m    393\u001b[0m     params \u001b[38;5;241m=\u001b[39m {}\n\u001b[0;32m    394\u001b[0m params[\u001b[38;5;124m\"\u001b[39m\u001b[38;5;124mid\u001b[39m\u001b[38;5;124m\"\u001b[39m] \u001b[38;5;241m=\u001b[39m \u001b[38;5;28mself\u001b[39m\u001b[38;5;241m.\u001b[39m_id\n\u001b[1;32m--> 395\u001b[0m \u001b[38;5;28;01mreturn\u001b[39;00m \u001b[38;5;28;43mself\u001b[39;49m\u001b[38;5;241;43m.\u001b[39;49m\u001b[43m_parent\u001b[49m\u001b[38;5;241;43m.\u001b[39;49m\u001b[43mexecute\u001b[49m\u001b[43m(\u001b[49m\u001b[43mcommand\u001b[49m\u001b[43m,\u001b[49m\u001b[43m \u001b[49m\u001b[43mparams\u001b[49m\u001b[43m)\u001b[49m\n",
      "File \u001b[1;32mc:\\Users\\kvujw\\AppData\\Local\\Programs\\Python\\Python310\\lib\\site-packages\\selenium\\webdriver\\remote\\webdriver.py:348\u001b[0m, in \u001b[0;36mWebDriver.execute\u001b[1;34m(self, driver_command, params)\u001b[0m\n\u001b[0;32m    346\u001b[0m response \u001b[38;5;241m=\u001b[39m \u001b[38;5;28mself\u001b[39m\u001b[38;5;241m.\u001b[39mcommand_executor\u001b[38;5;241m.\u001b[39mexecute(driver_command, params)\n\u001b[0;32m    347\u001b[0m \u001b[38;5;28;01mif\u001b[39;00m response:\n\u001b[1;32m--> 348\u001b[0m     \u001b[38;5;28;43mself\u001b[39;49m\u001b[38;5;241;43m.\u001b[39;49m\u001b[43merror_handler\u001b[49m\u001b[38;5;241;43m.\u001b[39;49m\u001b[43mcheck_response\u001b[49m\u001b[43m(\u001b[49m\u001b[43mresponse\u001b[49m\u001b[43m)\u001b[49m\n\u001b[0;32m    349\u001b[0m     response[\u001b[38;5;124m\"\u001b[39m\u001b[38;5;124mvalue\u001b[39m\u001b[38;5;124m\"\u001b[39m] \u001b[38;5;241m=\u001b[39m \u001b[38;5;28mself\u001b[39m\u001b[38;5;241m.\u001b[39m_unwrap_value(response\u001b[38;5;241m.\u001b[39mget(\u001b[38;5;124m\"\u001b[39m\u001b[38;5;124mvalue\u001b[39m\u001b[38;5;124m\"\u001b[39m, \u001b[38;5;28;01mNone\u001b[39;00m))\n\u001b[0;32m    350\u001b[0m     \u001b[38;5;28;01mreturn\u001b[39;00m response\n",
      "File \u001b[1;32mc:\\Users\\kvujw\\AppData\\Local\\Programs\\Python\\Python310\\lib\\site-packages\\selenium\\webdriver\\remote\\errorhandler.py:229\u001b[0m, in \u001b[0;36mErrorHandler.check_response\u001b[1;34m(self, response)\u001b[0m\n\u001b[0;32m    227\u001b[0m         alert_text \u001b[38;5;241m=\u001b[39m value[\u001b[38;5;124m\"\u001b[39m\u001b[38;5;124malert\u001b[39m\u001b[38;5;124m\"\u001b[39m]\u001b[38;5;241m.\u001b[39mget(\u001b[38;5;124m\"\u001b[39m\u001b[38;5;124mtext\u001b[39m\u001b[38;5;124m\"\u001b[39m)\n\u001b[0;32m    228\u001b[0m     \u001b[38;5;28;01mraise\u001b[39;00m exception_class(message, screen, stacktrace, alert_text)  \u001b[38;5;66;03m# type: ignore[call-arg]  # mypy is not smart enough here\u001b[39;00m\n\u001b[1;32m--> 229\u001b[0m \u001b[38;5;28;01mraise\u001b[39;00m exception_class(message, screen, stacktrace)\n",
      "\u001b[1;31mElementNotInteractableException\u001b[0m: Message: element not interactable\n  (Session info: chrome=126.0.6478.185)\nStacktrace:\n\tGetHandleVerifier [0x00007FF62D7FEEB2+31554]\n\t(No symbol) [0x00007FF62D777EE9]\n\t(No symbol) [0x00007FF62D638559]\n\t(No symbol) [0x00007FF62D6897C2]\n\t(No symbol) [0x00007FF62D67C151]\n\t(No symbol) [0x00007FF62D6AD02A]\n\t(No symbol) [0x00007FF62D67BA76]\n\t(No symbol) [0x00007FF62D6AD240]\n\t(No symbol) [0x00007FF62D6CC977]\n\t(No symbol) [0x00007FF62D6ACDD3]\n\t(No symbol) [0x00007FF62D67A33B]\n\t(No symbol) [0x00007FF62D67AED1]\n\tGetHandleVerifier [0x00007FF62DB08B2D+3217341]\n\tGetHandleVerifier [0x00007FF62DB55AF3+3532675]\n\tGetHandleVerifier [0x00007FF62DB4B0F0+3489152]\n\tGetHandleVerifier [0x00007FF62D8AE786+750614]\n\t(No symbol) [0x00007FF62D78376F]\n\t(No symbol) [0x00007FF62D77EB24]\n\t(No symbol) [0x00007FF62D77ECB2]\n\t(No symbol) [0x00007FF62D76E17F]\n\tBaseThreadInitThunk [0x00007FFE2D537374+20]\n\tRtlUserThreadStart [0x00007FFE2DFDCC91+33]\n"
     ]
    }
   ],
   "source": [
    "options = Options() \n",
    "options.add_experimental_option(\"prefs\", {\"download.default_directory\":r\"C:\\Users\\Your_preferred_path\"})\n",
    "options.add_experimental_option(\"detach\", True)\n",
    "driver = webdriver.Chrome(options=options)\n",
    "driver.maximize_window()\n",
    "driver.get(\"https://academic.iitm.ac.in/\")\n",
    "btn = driver.find_element(\"css selector\", 'input[id = \"username\"]')\n",
    "btn.send_keys(rollno) #imported from consts, replace with roll no\n",
    "btn = driver.find_element(\"css selector\", 'input[id = \"password\"]')\n",
    "btn.send_keys(password) #imported from consts, replace with ldap password\n",
    "btn = driver.find_element(\"css selector\", 'input[class=\"login100-form-btn\"]')\n",
    "btn.click()\n",
    "btn = driver.find_element(\"css selector\", 'button[id=\"load_menu_btn\"]')\n",
    "btn.click()\n",
    "btns = driver.find_elements(\"css selector\", 'li[class=\"dropdown\"]')\n",
    "btns[1].click()\n",
    "btn = driver.find_element(\"css selector\", 'a[href=\"slotwise.php\"]')\n",
    "btn.click()\n",
    "driver.find_element(\"css selector\", 'select[id=\"period\"]').click()\n",
    "driver.find_element(\"css selector\", 'option[value=\"JUL-NOV 2023\"]').click()\n",
    "driver.find_element(\"css selector\", 'select[id=\"department_code\"]').click()\n",
    "driver.find_element(\"css selector\", 'option[value=\"ALL\"]').click()\n",
    "driver.find_element(\"css selector\", 'button[id=\"slot_view\"]').click()  \n",
    "\n",
    "# # Accessing and downloading csvs\n",
    "# driver.find_element(\"css selector\", 'a[class=\"btn btn-default buttons-csv buttons-html5 btn-sm\"]').click()\n",
    "# # Hard coded bit. Automate this--------------------------\n",
    "# time.sleep(1)\n",
    "# pag.moveTo(x=241, y=380)\n",
    "# pag.click()\n",
    "# driver.find_element(\"css selector\", 'button[class=\"close btn btn-lg btn-danger\"]').click()\n",
    "# # ----------------------------------------------------------------------------------\n",
    "\n",
    "driver.implicitly_wait(5)\n",
    "courseObjects = driver.find_elements(\"css selector\", 'a[data-target=\"#subject_modal\"]')\n",
    "driver.execute_script(\"window.scrollTo(0,document.body.scrollHeight)\")\n",
    "flag = 1\n",
    "no_of_times = 1118\n",
    "# no_of_times = 1\n",
    "CSV_x = 239\n",
    "CSV_y = 406\n",
    "# 241 & 380\n",
    "for i in range(no_of_times):\n",
    "    if(i%10 == 0 and flag == 0):\n",
    "        driver.find_element(\"css selector\", 'a[id=\"slot_tables_next\"]').click()\n",
    "        courseObjects = driver.find_elements(\"css selector\", 'a[data-target=\"#subject_modal\"]')\n",
    "        driver.execute_script(\"arguments[0].scrollIntoView();\", courseObjects[0])\n",
    "        courseObjects[0].click()\n",
    "        time.sleep(1)\n",
    "        pag.moveTo(x=CSV_x, y=CSV_y)\n",
    "        # driver.find_element(\"css selector\", 'a[class=\"btn btn-default buttons-csv buttons-html5 btn-sm\"]').click()\n",
    "        pag.click()\n",
    "        driver.find_element(\"css selector\", 'button[class=\"close btn btn-lg btn-danger\"]').click()\n",
    "        flag = 1\n",
    "    else:\n",
    "        flag = 0\n",
    "        driver.execute_script(\"arguments[0].scrollIntoView();\", courseObjects[i%10])\n",
    "        courseObjects[i%10].click()\n",
    "        time.sleep(1)\n",
    "        # driver.find_element(\"css selector\", 'a[class=\"btn btn-default buttons-csv buttons-html5 btn-sm\"]').click()\n",
    "        pag.moveTo(x=CSV_x, y=CSV_y)\n",
    "        pag.click()\n",
    "        next_element = driver.find_element(\"css selector\", 'button[class=\"close btn btn-lg btn-danger\"]')\n",
    "        driver.execute_script(\"arguments[0].scrollIntoView();\", next_element)\n",
    "        next_element.click()\n",
    "\n",
    "\n",
    "\n",
    "\n"
   ]
  },
  {
   "cell_type": "code",
   "execution_count": null,
   "metadata": {},
   "outputs": [
    {
     "ename": "ElementClickInterceptedException",
     "evalue": "Message: element click intercepted: Element <a class=\"paginate_button next\" aria-controls=\"slot_tables\" data-dt-idx=\"6\" tabindex=\"0\" id=\"slot_tables_next\">...</a> is not clickable at point (1474, 667). Other element would receive the click: <p style=\"color: white;\">...</p>\n  (Session info: chrome=126.0.6478.185)\nStacktrace:\n\tGetHandleVerifier [0x00007FF6A4F8EEB2+31554]\n\t(No symbol) [0x00007FF6A4F07EE9]\n\t(No symbol) [0x00007FF6A4DC872A]\n\t(No symbol) [0x00007FF6A4E2012E]\n\t(No symbol) [0x00007FF6A4E1DAF2]\n\t(No symbol) [0x00007FF6A4E1AF8B]\n\t(No symbol) [0x00007FF6A4E1A156]\n\t(No symbol) [0x00007FF6A4E0C151]\n\t(No symbol) [0x00007FF6A4E3D02A]\n\t(No symbol) [0x00007FF6A4E0BA76]\n\t(No symbol) [0x00007FF6A4E3D240]\n\t(No symbol) [0x00007FF6A4E5C977]\n\t(No symbol) [0x00007FF6A4E3CDD3]\n\t(No symbol) [0x00007FF6A4E0A33B]\n\t(No symbol) [0x00007FF6A4E0AED1]\n\tGetHandleVerifier [0x00007FF6A5298B2D+3217341]\n\tGetHandleVerifier [0x00007FF6A52E5AF3+3532675]\n\tGetHandleVerifier [0x00007FF6A52DB0F0+3489152]\n\tGetHandleVerifier [0x00007FF6A503E786+750614]\n\t(No symbol) [0x00007FF6A4F1376F]\n\t(No symbol) [0x00007FF6A4F0EB24]\n\t(No symbol) [0x00007FF6A4F0ECB2]\n\t(No symbol) [0x00007FF6A4EFE17F]\n\tBaseThreadInitThunk [0x00007FFE2D537374+20]\n\tRtlUserThreadStart [0x00007FFE2DFDCC91+33]\n",
     "output_type": "error",
     "traceback": [
      "\u001b[1;31m---------------------------------------------------------------------------\u001b[0m",
      "\u001b[1;31mElementClickInterceptedException\u001b[0m          Traceback (most recent call last)",
      "Cell \u001b[1;32mIn[13], line 8\u001b[0m\n\u001b[0;32m      6\u001b[0m \u001b[38;5;28;01mfor\u001b[39;00m i \u001b[38;5;129;01min\u001b[39;00m \u001b[38;5;28mrange\u001b[39m(no_of_times):\n\u001b[0;32m      7\u001b[0m     \u001b[38;5;28;01mif\u001b[39;00m(i\u001b[38;5;241m%\u001b[39m\u001b[38;5;241m10\u001b[39m \u001b[38;5;241m==\u001b[39m \u001b[38;5;241m0\u001b[39m \u001b[38;5;129;01mand\u001b[39;00m flag \u001b[38;5;241m==\u001b[39m \u001b[38;5;241m0\u001b[39m):\n\u001b[1;32m----> 8\u001b[0m         \u001b[43mdriver\u001b[49m\u001b[38;5;241;43m.\u001b[39;49m\u001b[43mfind_element\u001b[49m\u001b[43m(\u001b[49m\u001b[38;5;124;43m\"\u001b[39;49m\u001b[38;5;124;43mcss selector\u001b[39;49m\u001b[38;5;124;43m\"\u001b[39;49m\u001b[43m,\u001b[49m\u001b[43m \u001b[49m\u001b[38;5;124;43m'\u001b[39;49m\u001b[38;5;124;43ma[id=\u001b[39;49m\u001b[38;5;124;43m\"\u001b[39;49m\u001b[38;5;124;43mslot_tables_next\u001b[39;49m\u001b[38;5;124;43m\"\u001b[39;49m\u001b[38;5;124;43m]\u001b[39;49m\u001b[38;5;124;43m'\u001b[39;49m\u001b[43m)\u001b[49m\u001b[38;5;241;43m.\u001b[39;49m\u001b[43mclick\u001b[49m\u001b[43m(\u001b[49m\u001b[43m)\u001b[49m\n\u001b[0;32m      9\u001b[0m         courseObjects \u001b[38;5;241m=\u001b[39m driver\u001b[38;5;241m.\u001b[39mfind_elements(\u001b[38;5;124m\"\u001b[39m\u001b[38;5;124mcss selector\u001b[39m\u001b[38;5;124m\"\u001b[39m, \u001b[38;5;124m'\u001b[39m\u001b[38;5;124ma[data-target=\u001b[39m\u001b[38;5;124m\"\u001b[39m\u001b[38;5;124m#subject_modal\u001b[39m\u001b[38;5;124m\"\u001b[39m\u001b[38;5;124m]\u001b[39m\u001b[38;5;124m'\u001b[39m)\n\u001b[0;32m     10\u001b[0m         driver\u001b[38;5;241m.\u001b[39mexecute_script(\u001b[38;5;124m\"\u001b[39m\u001b[38;5;124marguments[0].scrollIntoView();\u001b[39m\u001b[38;5;124m\"\u001b[39m, courseObjects[\u001b[38;5;241m0\u001b[39m])\n",
      "File \u001b[1;32mc:\\Users\\kvujw\\AppData\\Local\\Programs\\Python\\Python310\\lib\\site-packages\\selenium\\webdriver\\remote\\webelement.py:94\u001b[0m, in \u001b[0;36mWebElement.click\u001b[1;34m(self)\u001b[0m\n\u001b[0;32m     92\u001b[0m \u001b[38;5;28;01mdef\u001b[39;00m \u001b[38;5;21mclick\u001b[39m(\u001b[38;5;28mself\u001b[39m) \u001b[38;5;241m-\u001b[39m\u001b[38;5;241m>\u001b[39m \u001b[38;5;28;01mNone\u001b[39;00m:\n\u001b[0;32m     93\u001b[0m \u001b[38;5;250m    \u001b[39m\u001b[38;5;124;03m\"\"\"Clicks the element.\"\"\"\u001b[39;00m\n\u001b[1;32m---> 94\u001b[0m     \u001b[38;5;28;43mself\u001b[39;49m\u001b[38;5;241;43m.\u001b[39;49m\u001b[43m_execute\u001b[49m\u001b[43m(\u001b[49m\u001b[43mCommand\u001b[49m\u001b[38;5;241;43m.\u001b[39;49m\u001b[43mCLICK_ELEMENT\u001b[49m\u001b[43m)\u001b[49m\n",
      "File \u001b[1;32mc:\\Users\\kvujw\\AppData\\Local\\Programs\\Python\\Python310\\lib\\site-packages\\selenium\\webdriver\\remote\\webelement.py:395\u001b[0m, in \u001b[0;36mWebElement._execute\u001b[1;34m(self, command, params)\u001b[0m\n\u001b[0;32m    393\u001b[0m     params \u001b[38;5;241m=\u001b[39m {}\n\u001b[0;32m    394\u001b[0m params[\u001b[38;5;124m\"\u001b[39m\u001b[38;5;124mid\u001b[39m\u001b[38;5;124m\"\u001b[39m] \u001b[38;5;241m=\u001b[39m \u001b[38;5;28mself\u001b[39m\u001b[38;5;241m.\u001b[39m_id\n\u001b[1;32m--> 395\u001b[0m \u001b[38;5;28;01mreturn\u001b[39;00m \u001b[38;5;28;43mself\u001b[39;49m\u001b[38;5;241;43m.\u001b[39;49m\u001b[43m_parent\u001b[49m\u001b[38;5;241;43m.\u001b[39;49m\u001b[43mexecute\u001b[49m\u001b[43m(\u001b[49m\u001b[43mcommand\u001b[49m\u001b[43m,\u001b[49m\u001b[43m \u001b[49m\u001b[43mparams\u001b[49m\u001b[43m)\u001b[49m\n",
      "File \u001b[1;32mc:\\Users\\kvujw\\AppData\\Local\\Programs\\Python\\Python310\\lib\\site-packages\\selenium\\webdriver\\remote\\webdriver.py:348\u001b[0m, in \u001b[0;36mWebDriver.execute\u001b[1;34m(self, driver_command, params)\u001b[0m\n\u001b[0;32m    346\u001b[0m response \u001b[38;5;241m=\u001b[39m \u001b[38;5;28mself\u001b[39m\u001b[38;5;241m.\u001b[39mcommand_executor\u001b[38;5;241m.\u001b[39mexecute(driver_command, params)\n\u001b[0;32m    347\u001b[0m \u001b[38;5;28;01mif\u001b[39;00m response:\n\u001b[1;32m--> 348\u001b[0m     \u001b[38;5;28;43mself\u001b[39;49m\u001b[38;5;241;43m.\u001b[39;49m\u001b[43merror_handler\u001b[49m\u001b[38;5;241;43m.\u001b[39;49m\u001b[43mcheck_response\u001b[49m\u001b[43m(\u001b[49m\u001b[43mresponse\u001b[49m\u001b[43m)\u001b[49m\n\u001b[0;32m    349\u001b[0m     response[\u001b[38;5;124m\"\u001b[39m\u001b[38;5;124mvalue\u001b[39m\u001b[38;5;124m\"\u001b[39m] \u001b[38;5;241m=\u001b[39m \u001b[38;5;28mself\u001b[39m\u001b[38;5;241m.\u001b[39m_unwrap_value(response\u001b[38;5;241m.\u001b[39mget(\u001b[38;5;124m\"\u001b[39m\u001b[38;5;124mvalue\u001b[39m\u001b[38;5;124m\"\u001b[39m, \u001b[38;5;28;01mNone\u001b[39;00m))\n\u001b[0;32m    350\u001b[0m     \u001b[38;5;28;01mreturn\u001b[39;00m response\n",
      "File \u001b[1;32mc:\\Users\\kvujw\\AppData\\Local\\Programs\\Python\\Python310\\lib\\site-packages\\selenium\\webdriver\\remote\\errorhandler.py:229\u001b[0m, in \u001b[0;36mErrorHandler.check_response\u001b[1;34m(self, response)\u001b[0m\n\u001b[0;32m    227\u001b[0m         alert_text \u001b[38;5;241m=\u001b[39m value[\u001b[38;5;124m\"\u001b[39m\u001b[38;5;124malert\u001b[39m\u001b[38;5;124m\"\u001b[39m]\u001b[38;5;241m.\u001b[39mget(\u001b[38;5;124m\"\u001b[39m\u001b[38;5;124mtext\u001b[39m\u001b[38;5;124m\"\u001b[39m)\n\u001b[0;32m    228\u001b[0m     \u001b[38;5;28;01mraise\u001b[39;00m exception_class(message, screen, stacktrace, alert_text)  \u001b[38;5;66;03m# type: ignore[call-arg]  # mypy is not smart enough here\u001b[39;00m\n\u001b[1;32m--> 229\u001b[0m \u001b[38;5;28;01mraise\u001b[39;00m exception_class(message, screen, stacktrace)\n",
      "\u001b[1;31mElementClickInterceptedException\u001b[0m: Message: element click intercepted: Element <a class=\"paginate_button next\" aria-controls=\"slot_tables\" data-dt-idx=\"6\" tabindex=\"0\" id=\"slot_tables_next\">...</a> is not clickable at point (1474, 667). Other element would receive the click: <p style=\"color: white;\">...</p>\n  (Session info: chrome=126.0.6478.185)\nStacktrace:\n\tGetHandleVerifier [0x00007FF6A4F8EEB2+31554]\n\t(No symbol) [0x00007FF6A4F07EE9]\n\t(No symbol) [0x00007FF6A4DC872A]\n\t(No symbol) [0x00007FF6A4E2012E]\n\t(No symbol) [0x00007FF6A4E1DAF2]\n\t(No symbol) [0x00007FF6A4E1AF8B]\n\t(No symbol) [0x00007FF6A4E1A156]\n\t(No symbol) [0x00007FF6A4E0C151]\n\t(No symbol) [0x00007FF6A4E3D02A]\n\t(No symbol) [0x00007FF6A4E0BA76]\n\t(No symbol) [0x00007FF6A4E3D240]\n\t(No symbol) [0x00007FF6A4E5C977]\n\t(No symbol) [0x00007FF6A4E3CDD3]\n\t(No symbol) [0x00007FF6A4E0A33B]\n\t(No symbol) [0x00007FF6A4E0AED1]\n\tGetHandleVerifier [0x00007FF6A5298B2D+3217341]\n\tGetHandleVerifier [0x00007FF6A52E5AF3+3532675]\n\tGetHandleVerifier [0x00007FF6A52DB0F0+3489152]\n\tGetHandleVerifier [0x00007FF6A503E786+750614]\n\t(No symbol) [0x00007FF6A4F1376F]\n\t(No symbol) [0x00007FF6A4F0EB24]\n\t(No symbol) [0x00007FF6A4F0ECB2]\n\t(No symbol) [0x00007FF6A4EFE17F]\n\tBaseThreadInitThunk [0x00007FFE2D537374+20]\n\tRtlUserThreadStart [0x00007FFE2DFDCC91+33]\n"
     ]
    }
   ],
   "source": [
    "no_of_times = 388\n",
    "# no_of_times = 1\n",
    "CSV_x = 239\n",
    "CSV_y = 406\n",
    "# 241 & 380\n",
    "for i in range(no_of_times):\n",
    "    if(i%10 == 0 and flag == 0):\n",
    "        driver.find_element(\"css selector\", 'a[id=\"slot_tables_next\"]').click()\n",
    "        courseObjects = driver.find_elements(\"css selector\", 'a[data-target=\"#subject_modal\"]')\n",
    "        driver.execute_script(\"arguments[0].scrollIntoView();\", courseObjects[0])\n",
    "        courseObjects[0].click()\n",
    "        time.sleep(1)\n",
    "        pag.moveTo(x=CSV_x, y=CSV_y)\n",
    "        # driver.find_element(\"css selector\", 'a[class=\"btn btn-default buttons-csv buttons-html5 btn-sm\"]').click()\n",
    "        pag.click()\n",
    "        driver.find_element(\"css selector\", 'button[class=\"close btn btn-lg btn-danger\"]').click()\n",
    "        flag = 1\n",
    "    else:\n",
    "        flag = 0\n",
    "        driver.execute_script(\"arguments[0].scrollIntoView();\", courseObjects[i%10])\n",
    "        courseObjects[i%10].click()\n",
    "        time.sleep(1)\n",
    "        # driver.find_element(\"css selector\", 'a[class=\"btn btn-default buttons-csv buttons-html5 btn-sm\"]').click()\n",
    "        pag.moveTo(x=CSV_x, y=CSV_y)\n",
    "        pag.click()\n",
    "        \n",
    "        driver.find_element(\"css selector\", 'button[class=\"close btn btn-lg btn-danger\"]').click()\n"
   ]
  }
 ],
 "metadata": {
  "kernelspec": {
   "display_name": "Python 3",
   "language": "python",
   "name": "python3"
  },
  "language_info": {
   "codemirror_mode": {
    "name": "ipython",
    "version": 3
   },
   "file_extension": ".py",
   "mimetype": "text/x-python",
   "name": "python",
   "nbconvert_exporter": "python",
   "pygments_lexer": "ipython3",
   "version": "3.10.8"
  }
 },
 "nbformat": 4,
 "nbformat_minor": 2
}
